{
 "cells": [
  {
   "cell_type": "markdown",
   "metadata": {
    "graffitiCellId": "id_jjzm8pq"
   },
   "source": [
    "### Problem Statement\n",
    "\n",
    "You have been given an array of `length = n`. The array contains integers from `0` to `n - 2`. Each number in the array is present exactly once except for one number which is present twice. Find and return this duplicate number present in the array\n",
    "\n",
    "**Example:**\n",
    "* `arr = [0, 2, 3, 1, 4, 5, 3]`\n",
    "* `output = 3` (because `3` is present twice)\n",
    "\n",
    "The expected time complexity for this problem is `O(n)` and the expected space-complexity is `O(1)`."
   ]
  },
  {
   "cell_type": "code",
   "execution_count": 62,
   "metadata": {
    "graffitiCellId": "id_hjobo20"
   },
   "outputs": [],
   "source": [
    "# Solution\n",
    "'''\n",
    "Notice carefully that\n",
    "1. All the elements of the array are always non-negative\n",
    "2. If array length = n, then elements would start from 0 to (n-2), i.e. Natural numbers 0,1,2,3,4,5...(n-2)\n",
    "3. There is only SINGLE element which is present twice.\n",
    "\n",
    "Therefore let's find the sum of all elements (current_sum) of the original array, and\n",
    "find the sum of first (n-2) Natural numbers (expected_sum).\n",
    "\n",
    "Trick: \n",
    "The second occurance of a particular number (say `x`) is actually occupying the space \n",
    "that would have been utilized by the number (n-1). This leads to: \n",
    "current_sum  = 0 + 1 + 2 + 3 + .... + (n-2) + x\n",
    "expected_sum = 0 + 1 + 2 + 3 + .... + (n-2)\n",
    "current_sum - expected_sum = x \n",
    "Tada!!! :)  \n",
    "\n",
    "'''\n",
    "# This is my solution, it is bullet proof unlike udacity solutions, even if it is slightly slower    \n",
    "    def findDuplicate(self, nums):\n",
    "        nums.sort()\n",
    "        for i in range(1, len(nums)):\n",
    "            if nums[i] == nums[i-1]:\n",
    "                return nums[i]\n"
   ]
  },
  {
   "cell_type": "markdown",
   "metadata": {
    "graffitiCellId": "id_t54gljc"
   },
   "source": [
    "<span class=\"graffiti-highlight graffiti-id_t54gljc-id_6q2yj6n\"><i></i><button>Hide Solution</button></span>"
   ]
  },
  {
   "cell_type": "code",
   "execution_count": 55,
   "metadata": {
    "graffitiCellId": "id_6q2yj6n"
   },
   "outputs": [],
   "source": [
    "# Solution\n",
    "'''\n",
    "Notice carefully that\n",
    "1. All the elements of the array are always non-negative\n",
    "2. If array length = n, then elements would start from 0 to (n-2), i.e. Natural numbers 0,1,2,3,4,5...(n-2)\n",
    "3. There is only SINGLE element which is present twice.\n",
    "\n",
    "Therefore let's find the sum of all elements (current_sum) of the original array, and\n",
    "find the sum of first (n-2) Natural numbers (expected_sum).\n",
    "\n",
    "Trick: \n",
    "The second occurance of a particular number (say `x`) is actually occupying the space \n",
    "that would have been utilized by the number (n-1). This leads to: \n",
    "current_sum  = 0 + 1 + 2 + 3 + .... + (n-2) + x\n",
    "expected_sum = 0 + 1 + 2 + 3 + .... + (n-2)\n",
    "current_sum - expected_sum = x \n",
    "Tada!!! :)  \n",
    "\n",
    "'''\n",
    "def duplicate_number(arr):\n",
    "    \n",
    "    # Sums...\n",
    "    current_sum = 0\n",
    "    expected_sum = 0\n",
    "    \n",
    "    # Traverse the original array in the forward direction \n",
    "    for num in arr:\n",
    "        current_sum += num\n",
    "    \n",
    "    \n",
    "    # Traverse from 0 to (length of array-1) to get the expected_sum\n",
    "    # Alternatively, you can use the formula for sum of an Arithmetic Progression to get the expected_sum\n",
    "    \n",
    "    # The argument of range() functions are:\n",
    "    # starting index [OPTIONAL], ending index (non exclusive), and the increment/decrement size [OPTIONAL]\n",
    "    # It means that if the array length = n, loop will run form 0 to (n-2)\n",
    "    for i in range(len(arr) - 1):\n",
    "        expected_sum += i\n",
    "    \n",
    "    \n",
    "    # The difference between the \n",
    "    return current_sum - expected_sum\n"
   ]
  },
  {
   "cell_type": "code",
   "execution_count": 56,
   "metadata": {
    "graffitiCellId": "id_32apeg6"
   },
   "outputs": [],
   "source": [
    "def test_function(test_case):\n",
    "    arr = test_case[0]\n",
    "    solution = test_case[1]\n",
    "    output = duplicate_number(arr)\n",
    "    if output == solution:\n",
    "        print(\"Pass\")\n",
    "    else:\n",
    "        print(\"Fail\")"
   ]
  },
  {
   "cell_type": "code",
   "execution_count": 57,
   "metadata": {
    "graffitiCellId": "id_5b4ou9d"
   },
   "outputs": [
    {
     "name": "stdout",
     "output_type": "stream",
     "text": [
      "Pass\n"
     ]
    }
   ],
   "source": [
    "arr = [0, 0]\n",
    "solution = 0\n",
    "\n",
    "test_case = [arr, solution]\n",
    "test_function(test_case)"
   ]
  },
  {
   "cell_type": "code",
   "execution_count": 58,
   "metadata": {
    "graffitiCellId": "id_kvkeije"
   },
   "outputs": [
    {
     "name": "stdout",
     "output_type": "stream",
     "text": [
      "Pass\n"
     ]
    }
   ],
   "source": [
    "arr = [0, 2, 3, 1, 4, 5, 3]\n",
    "solution = 3\n",
    "\n",
    "test_case = [arr, solution]\n",
    "test_function(test_case)"
   ]
  },
  {
   "cell_type": "code",
   "execution_count": 59,
   "metadata": {
    "graffitiCellId": "id_vfijgc0"
   },
   "outputs": [
    {
     "name": "stdout",
     "output_type": "stream",
     "text": [
      "Pass\n"
     ]
    }
   ],
   "source": [
    "arr = [0, 1, 5, 4, 3, 2, 0]\n",
    "solution = 0\n",
    "\n",
    "test_case = [arr, solution]\n",
    "test_function(test_case)"
   ]
  },
  {
   "cell_type": "code",
   "execution_count": 60,
   "metadata": {
    "graffitiCellId": "id_w6gda6p"
   },
   "outputs": [
    {
     "name": "stdout",
     "output_type": "stream",
     "text": [
      "Pass\n"
     ]
    }
   ],
   "source": [
    "arr = [0, 1, 5, 5, 3, 2, 4]\n",
    "solution = 5\n",
    "\n",
    "test_case = [arr, solution]\n",
    "test_function(test_case)"
   ]
  },
  {
   "cell_type": "code",
   "execution_count": 63,
   "metadata": {
    "graffitiCellId": "id_3z5slz8"
   },
   "outputs": [
    {
     "name": "stdout",
     "output_type": "stream",
     "text": [
      "13\n",
      "10\n",
      "Pass\n"
     ]
    }
   ],
   "source": [
    "arr = [3,1,3,4,2]\n",
    "solution = 3\n",
    "\n",
    "test_case = [arr, solution]\n",
    "test_function(test_case)"
   ]
  },
  {
   "cell_type": "code",
   "execution_count": null,
   "metadata": {
    "graffitiCellId": "id_jepyiuo"
   },
   "outputs": [],
   "source": []
  },
  {
   "cell_type": "code",
   "execution_count": null,
   "metadata": {
    "graffitiCellId": "id_xtws6mt"
   },
   "outputs": [],
   "source": []
  }
 ],
 "metadata": {
  "graffiti": {
   "firstAuthorId": "dev",
   "id": "id_11ltg2a",
   "language": "EN"
  },
  "kernelspec": {
   "display_name": "Python 3",
   "language": "python",
   "name": "python3"
  },
  "language_info": {
   "codemirror_mode": {
    "name": "ipython",
    "version": 3
   },
   "file_extension": ".py",
   "mimetype": "text/x-python",
   "name": "python",
   "nbconvert_exporter": "python",
   "pygments_lexer": "ipython3",
   "version": "3.6.3"
  }
 },
 "nbformat": 4,
 "nbformat_minor": 2
}
